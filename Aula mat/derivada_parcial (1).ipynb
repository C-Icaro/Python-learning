{
  "cells": [
    {
      "cell_type": "markdown",
      "metadata": {
        "id": "Phi9tEa_Fwfm"
      },
      "source": [
        "# **Derivada Parcial**"
      ]
    },
    {
      "cell_type": "code",
      "execution_count": 2,
      "metadata": {
        "id": "CM2jQO88FqGK"
      },
      "outputs": [
        {
          "ename": "ModuleNotFoundError",
          "evalue": "No module named 'sympy'",
          "output_type": "error",
          "traceback": [
            "\u001b[31m---------------------------------------------------------------------------\u001b[39m",
            "\u001b[31mModuleNotFoundError\u001b[39m                       Traceback (most recent call last)",
            "\u001b[36mCell\u001b[39m\u001b[36m \u001b[39m\u001b[32mIn[2]\u001b[39m\u001b[32m, line 1\u001b[39m\n\u001b[32m----> \u001b[39m\u001b[32m1\u001b[39m \u001b[38;5;28;01mimport\u001b[39;00m\u001b[38;5;250m \u001b[39m\u001b[34;01msympy\u001b[39;00m\u001b[38;5;250m \u001b[39m\u001b[38;5;28;01mas\u001b[39;00m\u001b[38;5;250m \u001b[39m\u001b[34;01msy\u001b[39;00m\n\u001b[32m      2\u001b[39m x = sy.Symbol(\u001b[33m\"\u001b[39m\u001b[33mx\u001b[39m\u001b[33m\"\u001b[39m)\n\u001b[32m      3\u001b[39m y = sy.Symbol(\u001b[33m\"\u001b[39m\u001b[33my\u001b[39m\u001b[33m\"\u001b[39m)\n",
            "\u001b[31mModuleNotFoundError\u001b[39m: No module named 'sympy'"
          ]
        }
      ],
      "source": [
        "import sympy as sy\n",
        "x = sy.Symbol(\"x\")\n",
        "y = sy.Symbol(\"y\")\n",
        "z = sy.Symbol(\"z\")"
      ]
    },
    {
      "cell_type": "code",
      "execution_count": null,
      "metadata": {
        "id": "xkB19-vzF6hd"
      },
      "outputs": [],
      "source": [
        "derx = sy.diff(2 * x**2 * z + y**3 * z**2, x)\n",
        "derx"
      ]
    },
    {
      "cell_type": "code",
      "execution_count": null,
      "metadata": {
        "id": "OGodtflXGtVV"
      },
      "outputs": [],
      "source": [
        "dery = sy.diff(2 * x**2 * z + y**3 * z**2, y)\n",
        "dery"
      ]
    },
    {
      "cell_type": "code",
      "execution_count": null,
      "metadata": {
        "id": "2WnkmOZpGzEq"
      },
      "outputs": [],
      "source": [
        "derz = sy.diff(2 * x**2 * z + y**3 * z**2, z)\n",
        "derz"
      ]
    },
    {
      "cell_type": "markdown",
      "metadata": {
        "id": "gioKYfNKG7qY"
      },
      "source": [
        "## **DERIVADA PARCIAL DE SEGUNDA ORDEM**"
      ]
    },
    {
      "cell_type": "code",
      "execution_count": null,
      "metadata": {
        "id": "Lta8aq47HAxR"
      },
      "outputs": [],
      "source": [
        "derX2 = sy.diff(sy.diff(x**4 * y**3 + 2 * x**2 * y**5, x), x)\n",
        "derX2"
      ]
    },
    {
      "cell_type": "code",
      "execution_count": null,
      "metadata": {
        "id": "QjKWPrUxH2PG"
      },
      "outputs": [],
      "source": [
        "derY2 = sy.diff(sy.diff(x**4 * y**3 + 2 * x**2 * y**5, y), y)\n",
        "derY2"
      ]
    },
    {
      "cell_type": "code",
      "execution_count": null,
      "metadata": {
        "id": "XXONBatQIIpQ"
      },
      "outputs": [],
      "source": [
        "derXY = sy.diff(sy.diff(x**4 * y**3 + 2 * x**2 * y**5, y), x)\n",
        "derXY"
      ]
    },
    {
      "cell_type": "code",
      "execution_count": null,
      "metadata": {
        "id": "fGHJIA4tIykD"
      },
      "outputs": [],
      "source": [
        "derYX = sy.diff(sy.diff(x**4 * y**3 + 2 * x**2 * y**5, x), y)\n",
        "derYX"
      ]
    },
    {
      "cell_type": "markdown",
      "metadata": {
        "id": "FDZyUbLS3tDj"
      },
      "source": [
        "## **Exemplo com dados**"
      ]
    },
    {
      "cell_type": "code",
      "execution_count": null,
      "metadata": {
        "id": "hmwwZXF745vr"
      },
      "outputs": [],
      "source": [
        "import numpy as np\n",
        "import pandas as pd\n",
        "from sklearn.linear_model import LinearRegression"
      ]
    },
    {
      "cell_type": "code",
      "execution_count": null,
      "metadata": {
        "id": "nVvdOP1E5FV6"
      },
      "outputs": [],
      "source": [
        "# Carregar os dados\n",
        "df = pd.read_csv(\"dados_inadimplencia.csv\")"
      ]
    },
    {
      "cell_type": "code",
      "execution_count": null,
      "metadata": {
        "id": "ZkXtTQdl5v9i"
      },
      "outputs": [],
      "source": [
        "df.head()"
      ]
    },
    {
      "cell_type": "code",
      "execution_count": null,
      "metadata": {
        "id": "0iO1mH-n51Cz"
      },
      "outputs": [],
      "source": [
        "df.shape"
      ]
    },
    {
      "cell_type": "code",
      "execution_count": null,
      "metadata": {
        "id": "leyl1BRu55la"
      },
      "outputs": [],
      "source": [
        "# Separar variáveis independentes (X) e dependente (y)\n",
        "X = df[[\"divida\", \"atraso\"]]\n",
        "y = df[\"juros\"]"
      ]
    },
    {
      "cell_type": "code",
      "execution_count": null,
      "metadata": {
        "id": "Nl7CRr-W5_eq"
      },
      "outputs": [],
      "source": [
        "# Ajustar o modelo de regressão linear múltipla\n",
        "model = LinearRegression()\n",
        "model.fit(X, y)"
      ]
    },
    {
      "cell_type": "code",
      "execution_count": null,
      "metadata": {
        "id": "fn2E7F3p6Ioc"
      },
      "outputs": [],
      "source": [
        "# Coeficientes do modelo\n",
        "intercept = model.intercept_\n",
        "beta1, beta2 = model.coef_\n",
        "\n",
        "print(\"Modelo ajustado:\")\n",
        "print(f\"juros = {intercept:.2f} + {beta1:.3f}.divida + {beta2:.3f}.atraso\")"
      ]
    },
    {
      "cell_type": "code",
      "execution_count": null,
      "metadata": {
        "id": "i2uwMg8z6wEc"
      },
      "outputs": [],
      "source": [
        "divida = sy.Symbol(\"divida\")\n",
        "atraso = sy.Symbol(\"atraso\")"
      ]
    },
    {
      "cell_type": "code",
      "execution_count": null,
      "metadata": {
        "id": "MHkyY2GJ6f2a"
      },
      "outputs": [],
      "source": [
        "juros = 1.84 + 0.186*divida + 1.620*atraso"
      ]
    },
    {
      "cell_type": "code",
      "execution_count": null,
      "metadata": {
        "id": "8H4f98AE6THk"
      },
      "outputs": [],
      "source": [
        "derdivida = sy.diff(juros, divida)\n",
        "derdivida"
      ]
    },
    {
      "cell_type": "markdown",
      "metadata": {
        "id": "2o_uuV_y70mz"
      },
      "source": [
        "A cada R$ 1 mil a mais de dívida, os juros aumentam em média 0,186 pontos percentuais, mantendo o atraso fixo."
      ]
    },
    {
      "cell_type": "code",
      "execution_count": null,
      "metadata": {
        "id": "dL-8UMnw7XGs"
      },
      "outputs": [],
      "source": [
        "deratraso = sy.diff(juros, atraso)\n",
        "deratraso"
      ]
    },
    {
      "cell_type": "markdown",
      "metadata": {
        "id": "VrWD-E0Q8HWZ"
      },
      "source": [
        "A cada 1 mês de atraso, os juros aumentam em média 1,62 pontos percentuais, mantendo a dívida fixa."
      ]
    },
    {
      "cell_type": "markdown",
      "metadata": {
        "id": "4AsSfQaC8bZR"
      },
      "source": [
        "Neste modelo, o atraso no pagamento tem impacto marginal muito maior sobre os juros do que o valor da dívida."
      ]
    }
  ],
  "metadata": {
    "colab": {
      "provenance": []
    },
    "kernelspec": {
      "display_name": "Python 3",
      "name": "python3"
    },
    "language_info": {
      "codemirror_mode": {
        "name": "ipython",
        "version": 3
      },
      "file_extension": ".py",
      "mimetype": "text/x-python",
      "name": "python",
      "nbconvert_exporter": "python",
      "pygments_lexer": "ipython3",
      "version": "3.13.3"
    }
  },
  "nbformat": 4,
  "nbformat_minor": 0
}
