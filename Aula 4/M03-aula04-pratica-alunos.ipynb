{
 "cells": [
  {
   "cell_type": "markdown",
   "metadata": {
    "id": "vkl_Juy9-22K"
   },
   "source": [
    "1. Siga as instruções a seguir para realizar a atividade:"
   ]
  },
  {
   "cell_type": "markdown",
   "metadata": {
    "id": "hSRokkla-yts"
   },
   "source": [
    "2. Importação das bibliotecas necessárias"
   ]
  },
  {
   "cell_type": "code",
   "execution_count": 1,
   "metadata": {
    "id": "VfWr3KyL-1Yn"
   },
   "outputs": [],
   "source": [
    "import pandas as pd"
   ]
  },
  {
   "cell_type": "markdown",
   "metadata": {
    "id": "t8vXKYGF-1_e"
   },
   "source": [
    "3. Carregamento do arquivo CSV em um DataFrame"
   ]
  },
  {
   "cell_type": "code",
   "execution_count": 9,
   "metadata": {
    "id": "_LevpDen-9Gk"
   },
   "outputs": [],
   "source": [
    "df = pd.read_csv(\"campeonato-brasileiro-full.csv\")\n"
   ]
  },
  {
   "cell_type": "markdown",
   "metadata": {
    "id": "tHDB6pYy_Ax7"
   },
   "source": [
    "4. Visualização das primeiras linhas do DataFrame"
   ]
  },
  {
   "cell_type": "code",
   "execution_count": 10,
   "metadata": {
    "id": "uwm-ZoX__EUw"
   },
   "outputs": [
    {
     "name": "stdout",
     "output_type": "stream",
     "text": [
      "   ID  rodada        data   hora      dia       mandante    visitante  \\\n",
      "0   1       1  2003-03-29  16:00   Sabado        Guarani        Vasco   \n",
      "1   2       1  2003-03-29  16:00   Sabado   Athletico-PR       Gremio   \n",
      "2   3       1  2003-03-30  16:00  Domingo       Flamengo     Coritiba   \n",
      "3   4       1  2003-03-30  16:00  Domingo          Goias     Paysandu   \n",
      "4   5       1  2003-03-30  16:00  Domingo  Internacional  Ponte Preta   \n",
      "\n",
      "  formacao_mandante formacao_visitante tecnico_mandante tecnico_visitante  \\\n",
      "0               NaN                NaN              NaN               NaN   \n",
      "1               NaN                NaN              NaN               NaN   \n",
      "2               NaN                NaN              NaN               NaN   \n",
      "3               NaN                NaN              NaN               NaN   \n",
      "4               NaN                NaN              NaN               NaN   \n",
      "\n",
      "       vencedor             arena  mandante_placar  visitante_placar  \\\n",
      "0       Guarani    brinco de ouro                4                 2   \n",
      "1  Athletico-PR  arena da baixada                2                 0   \n",
      "2             -          maracana                1                 1   \n",
      "3             -     serra dourada                2                 2   \n",
      "4             -         beira rio                1                 1   \n",
      "\n",
      "  mandante_estado visitante_estado estado_vencedor  \n",
      "0              SP               RJ              SP  \n",
      "1              PR               RS              PR  \n",
      "2              RJ               PR               -  \n",
      "3              GO               PA               -  \n",
      "4              RS               SP               -  \n"
     ]
    }
   ],
   "source": [
    "print(df.head(5))"
   ]
  },
  {
   "cell_type": "markdown",
   "metadata": {
    "id": "nWwqcMIY_BgU"
   },
   "source": [
    "5.Verificação de informações gerais sobre o DataFrame, como tipos de dados e valores ausentes"
   ]
  },
  {
   "cell_type": "code",
   "execution_count": 16,
   "metadata": {
    "id": "dPkZfxpC_G8l"
   },
   "outputs": [
    {
     "name": "stdout",
     "output_type": "stream",
     "text": [
      "<bound method DataFrame.info of         ID  rodada        data   hora      dia       mandante      visitante  \\\n",
      "0        1       1  2003-03-29  16:00   Sabado        Guarani          Vasco   \n",
      "1        2       1  2003-03-29  16:00   Sabado   Athletico-PR         Gremio   \n",
      "2        3       1  2003-03-30  16:00  Domingo       Flamengo       Coritiba   \n",
      "3        4       1  2003-03-30  16:00  Domingo          Goias       Paysandu   \n",
      "4        5       1  2003-03-30  16:00  Domingo  Internacional    Ponte Preta   \n",
      "...    ...     ...         ...    ...      ...            ...            ...   \n",
      "7640  7641      38  2021-12-12  21:33  Domingo     Bragantino  Internacional   \n",
      "7641  7642      38  2021-12-12  21:30  Domingo          Sport   Athletico-PR   \n",
      "7642  7643      38  2021-12-12  21:33  Domingo      Juventude    Corinthians   \n",
      "7643  7644      38  2021-12-12  21:33  Domingo         Gremio    Atletico-MG   \n",
      "7644  7645      38  2021-12-12  21:33  Domingo         Santos         Cuiaba   \n",
      "\n",
      "     formacao_mandante formacao_visitante     tecnico_mandante  \\\n",
      "0                  NaN                NaN                  NaN   \n",
      "1                  NaN                NaN                  NaN   \n",
      "2                  NaN                NaN                  NaN   \n",
      "3                  NaN                NaN                  NaN   \n",
      "4                  NaN                NaN                  NaN   \n",
      "...                ...                ...                  ...   \n",
      "7640           4-2-3-1            3-4-2-1   D. Aguirre Camblor   \n",
      "7641           4-2-3-1            3-4-2-1           J. Freitas   \n",
      "7642             3-4-3              4-3-3     S. Campos Junior   \n",
      "7643           4-2-3-1            4-2-3-1            A. Stival   \n",
      "7644           3-4-2-1              4-4-2  J. de Amorim Campos   \n",
      "\n",
      "        tecnico_visitante      vencedor                    arena  \\\n",
      "0                     NaN       Guarani           brinco de ouro   \n",
      "1                     NaN  Athletico-PR         arena da baixada   \n",
      "2                     NaN             -                 maracana   \n",
      "3                     NaN             -            serra dourada   \n",
      "4                     NaN             -                beira rio   \n",
      "...                   ...           ...                      ...   \n",
      "7640   D. Aguirre Camblor    Bragantino                  nabizao   \n",
      "7641           J. Freitas             -      arena de pernambuco   \n",
      "7642     S. Campos Junior     Juventude           alfredo jaconi   \n",
      "7643            A. Stival        Gremio          arena do gremio   \n",
      "7644  J. de Amorim Campos             -  estadio urbano caldeira   \n",
      "\n",
      "      mandante_placar  visitante_placar mandante_estado visitante_estado  \\\n",
      "0                   4                 2              SP               RJ   \n",
      "1                   2                 0              PR               RS   \n",
      "2                   1                 1              RJ               PR   \n",
      "3                   2                 2              GO               PA   \n",
      "4                   1                 1              RS               SP   \n",
      "...               ...               ...             ...              ...   \n",
      "7640                1                 0              SP               RS   \n",
      "7641                1                 1              PE               PR   \n",
      "7642                1                 0              RS               SP   \n",
      "7643                4                 3              RS               MG   \n",
      "7644                1                 1              SP               MT   \n",
      "\n",
      "     estado_vencedor  \n",
      "0                 SP  \n",
      "1                 PR  \n",
      "2                  -  \n",
      "3                  -  \n",
      "4                  -  \n",
      "...              ...  \n",
      "7640              SP  \n",
      "7641               -  \n",
      "7642              RS  \n",
      "7643              RS  \n",
      "7644               -  \n",
      "\n",
      "[7645 rows x 18 columns]>\n"
     ]
    }
   ],
   "source": [
    "print(df.info)"
   ]
  },
  {
   "cell_type": "code",
   "execution_count": 20,
   "metadata": {
    "id": "VuAB38nl_HOX"
   },
   "outputs": [
    {
     "name": "stdout",
     "output_type": "stream",
     "text": [
      "         ID  rodada   data   hora    dia  mandante  visitante  \\\n",
      "0     False   False  False  False  False     False      False   \n",
      "1     False   False  False  False  False     False      False   \n",
      "2     False   False  False  False  False     False      False   \n",
      "3     False   False  False  False  False     False      False   \n",
      "4     False   False  False  False  False     False      False   \n",
      "...     ...     ...    ...    ...    ...       ...        ...   \n",
      "7640  False   False  False  False  False     False      False   \n",
      "7641  False   False  False  False  False     False      False   \n",
      "7642  False   False  False  False  False     False      False   \n",
      "7643  False   False  False  False  False     False      False   \n",
      "7644  False   False  False  False  False     False      False   \n",
      "\n",
      "      formacao_mandante  formacao_visitante  tecnico_mandante  \\\n",
      "0                  True                True              True   \n",
      "1                  True                True              True   \n",
      "2                  True                True              True   \n",
      "3                  True                True              True   \n",
      "4                  True                True              True   \n",
      "...                 ...                 ...               ...   \n",
      "7640              False               False             False   \n",
      "7641              False               False             False   \n",
      "7642              False               False             False   \n",
      "7643              False               False             False   \n",
      "7644              False               False             False   \n",
      "\n",
      "      tecnico_visitante  vencedor  arena  mandante_placar  visitante_placar  \\\n",
      "0                  True     False  False            False             False   \n",
      "1                  True     False  False            False             False   \n",
      "2                  True     False  False            False             False   \n",
      "3                  True     False  False            False             False   \n",
      "4                  True     False  False            False             False   \n",
      "...                 ...       ...    ...              ...               ...   \n",
      "7640              False     False  False            False             False   \n",
      "7641              False     False  False            False             False   \n",
      "7642              False     False  False            False             False   \n",
      "7643              False     False  False            False             False   \n",
      "7644              False     False  False            False             False   \n",
      "\n",
      "      mandante_estado  visitante_estado  estado_vencedor  \n",
      "0               False             False            False  \n",
      "1               False             False            False  \n",
      "2               False             False            False  \n",
      "3               False             False            False  \n",
      "4               False             False            False  \n",
      "...               ...               ...              ...  \n",
      "7640            False             False            False  \n",
      "7641            False             False            False  \n",
      "7642            False             False            False  \n",
      "7643            False             False            False  \n",
      "7644            False             False            False  \n",
      "\n",
      "[7645 rows x 18 columns]\n"
     ]
    }
   ],
   "source": [
    "print(df.isnull())"
   ]
  },
  {
   "cell_type": "markdown",
   "metadata": {
    "id": "GKKf2l79_HXV"
   },
   "source": [
    "6. Estatísticas descritivas para entender a distribuição dos dados"
   ]
  },
  {
   "cell_type": "code",
   "execution_count": null,
   "metadata": {
    "id": "cUqXmAua_Jqq"
   },
   "outputs": [],
   "source": []
  },
  {
   "cell_type": "markdown",
   "metadata": {
    "id": "sj_auhNX_KMn"
   },
   "source": [
    "7. Identificação e contagem de valores ausentes"
   ]
  },
  {
   "cell_type": "code",
   "execution_count": null,
   "metadata": {
    "id": "9qi4vEEf_MnR"
   },
   "outputs": [],
   "source": []
  },
  {
   "cell_type": "markdown",
   "metadata": {
    "id": "1SgU_TSZ_M8m"
   },
   "source": [
    "8. Tratamento de valores ausentes"
   ]
  },
  {
   "cell_type": "code",
   "execution_count": null,
   "metadata": {
    "id": "6kvwVh4U_Pv2"
   },
   "outputs": [],
   "source": []
  },
  {
   "cell_type": "markdown",
   "metadata": {
    "id": "3Fn1s9OU_QQy"
   },
   "source": [
    "9. Normalização de uma coluna numérica utilizando Min-Max Scaling"
   ]
  },
  {
   "cell_type": "code",
   "execution_count": null,
   "metadata": {
    "id": "HKn8egL9_S3-"
   },
   "outputs": [],
   "source": []
  },
  {
   "cell_type": "markdown",
   "metadata": {
    "id": "ONqBP4nV_TS1"
   },
   "source": [
    "10. Codificação de variáveis categóricas usando One-Hot Encoding"
   ]
  },
  {
   "cell_type": "code",
   "execution_count": null,
   "metadata": {
    "id": "he9IPhxr_VI9"
   },
   "outputs": [],
   "source": []
  },
  {
   "cell_type": "markdown",
   "metadata": {
    "id": "-IYeZqUp_Vmh"
   },
   "source": [
    "11. Criação de uma matriz de correlação para entender as relações entre variáveis numéricas"
   ]
  },
  {
   "cell_type": "code",
   "execution_count": null,
   "metadata": {
    "id": "LZhgejYl_Yaz"
   },
   "outputs": [],
   "source": []
  },
  {
   "cell_type": "markdown",
   "metadata": {
    "id": "MrekWXx8_ZH6"
   },
   "source": [
    "12. Análise exploratória, criar um gráfico de dispersão para visualizar relações entre variáveis"
   ]
  },
  {
   "cell_type": "code",
   "execution_count": null,
   "metadata": {
    "id": "U8fGJ53e_bZE"
   },
   "outputs": [],
   "source": []
  },
  {
   "cell_type": "markdown",
   "metadata": {
    "id": "s63ak1ub_bxk"
   },
   "source": [
    "13. Filtragem de dados com base em uma condição específica"
   ]
  },
  {
   "cell_type": "code",
   "execution_count": null,
   "metadata": {
    "id": "AIf1JOwR_hst"
   },
   "outputs": [],
   "source": []
  },
  {
   "cell_type": "markdown",
   "metadata": {
    "id": "rma5lHt5_h_2"
   },
   "source": [
    "14. Exportação do DataFrame processado para um novo arquivo CSV;"
   ]
  }
 ],
 "metadata": {
  "colab": {
   "authorship_tag": "ABX9TyMfDFO0r66guCcJxNc5LCut",
   "provenance": []
  },
  "kernelspec": {
   "display_name": "Python 3",
   "language": "python",
   "name": "python3"
  },
  "language_info": {
   "codemirror_mode": {
    "name": "ipython",
    "version": 3
   },
   "file_extension": ".py",
   "mimetype": "text/x-python",
   "name": "python",
   "nbconvert_exporter": "python",
   "pygments_lexer": "ipython3",
   "version": "3.13.3"
  }
 },
 "nbformat": 4,
 "nbformat_minor": 0
}
