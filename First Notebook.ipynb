{
 "cells": [
  {
   "cell_type": "markdown",
   "id": "8ec49dd9",
   "metadata": {},
   "source": [
    "# Python\n",
    "\n"
   ]
  },
  {
   "cell_type": "code",
   "execution_count": 1,
   "id": "0c998e34",
   "metadata": {},
   "outputs": [
    {
     "name": "stdout",
     "output_type": "stream",
     "text": [
      "[ACCESS GRANTED] Icaro\n",
      "[ACCESS GRANTED] o\n",
      "[ACCESS GRANTED] das3\n",
      "===== Access Summary =====\n",
      "✅ Approved Visitors:\n",
      " - Icaro\n",
      " - das3\n",
      " - o\n",
      "⛔️ Denied Visitors:\n",
      "Total Approved: 3\n",
      "Total Denied: 0\n"
     ]
    }
   ],
   "source": [
    "# 🛂 Access Control Scanner Challenge\n",
    "#\n",
    "# 1. Create a set of revoked badge numbers.\n",
    "# 2. Create two empty lists: \"approved\" and \"denied\".\n",
    "# 3. Start a loop to collect visitor info:\n",
    "#    - Ask for the visitor's name (or type \"done\" to finish).\n",
    "#    - If the name is \"done\", exit the loop.\n",
    "#    - Otherwise, ask for their badge number.\n",
    "#    - Check if the badge is revoked:\n",
    "#        • If revoked: add the name to \"denied\" and display \"ACCESS DENIED\".\n",
    "#        • If not: add the name to \"approved\" and display \"ACCESS GRANTED\".\n",
    "# 4. Print the final \"Access Summary\" for \"✅ Approved Visitors\" & \"⛔️ Denied Visitors\":\n",
    "#    - Sort both lists alphabetically.\n",
    "#    - Display the total number of approved and denied visitors.\n",
    "\n",
    "\n",
    "revoked_badges = {\"X123\", \"B789\", \"Z999\"}\n",
    "\n",
    "approved = []\n",
    "denied = []\n",
    "\n",
    "while True:\n",
    "  name = input(\"Enter person's name (or type 'done' to finish): \")\n",
    "  if name.lower() == \"done\":\n",
    "    break\n",
    "\n",
    "  badge = input(\"Enter badge number: \").strip().upper()\n",
    "\n",
    "  if badge in revoked_badges:\n",
    "    denied.append(name)\n",
    "    print(f\"[ACCESS DENIED] {name} - Revoked badge\")\n",
    "  else:\n",
    "    approved.append(name)\n",
    "    print(f\"[ACCESS GRANTED] {name}\")\n",
    "\n",
    "print(\"===== Access Summary =====\")\n",
    "\n",
    "print(\"✅ Approved Visitors:\")\n",
    "for person in sorted(approved):\n",
    "  print(f\" - {person}\")\n",
    "\n",
    "print(\"⛔️ Denied Visitors:\")\n",
    "for person in sorted(denied):\n",
    "  print(f\" - {person}\")\n",
    "\n",
    "print(f\"Total Approved: {len(approved)}\")\n",
    "print(f\"Total Denied: {len(denied)}\")"
   ]
  },
  {
   "cell_type": "markdown",
   "id": "1a4b159d",
   "metadata": {},
   "source": [
    "## Dictionaty Exercise"
   ]
  },
  {
   "cell_type": "code",
   "execution_count": null,
   "id": "3eed42fc",
   "metadata": {},
   "outputs": [
    {
     "ename": "KeyError",
     "evalue": "''",
     "output_type": "error",
     "traceback": [
      "\u001b[31m---------------------------------------------------------------------------\u001b[39m",
      "\u001b[31mKeyError\u001b[39m                                  Traceback (most recent call last)",
      "\u001b[36mCell\u001b[39m\u001b[36m \u001b[39m\u001b[32mIn[2]\u001b[39m\u001b[32m, line 24\u001b[39m\n\u001b[32m     22\u001b[39m     buy_item = \u001b[38;5;28minput\u001b[39m(\u001b[33mf\u001b[39m\u001b[33m'\u001b[39m\u001b[33mWelcome to \u001b[39m\u001b[38;5;132;01m{\u001b[39;00mshop[\u001b[33m\"\u001b[39m\u001b[33mname\u001b[39m\u001b[33m\"\u001b[39m]\u001b[38;5;132;01m}\u001b[39;00m\u001b[33m! what do you want to buy: \u001b[39m\u001b[38;5;132;01m{\u001b[39;00mshop\u001b[38;5;132;01m}\u001b[39;00m\u001b[33m'\u001b[39m).lower()\n\u001b[32m     23\u001b[39m     \u001b[38;5;66;03m#update the cart\u001b[39;00m\n\u001b[32m---> \u001b[39m\u001b[32m24\u001b[39m     cart.update({buy_item:\u001b[43mshop\u001b[49m\u001b[43m.\u001b[49m\u001b[43mpop\u001b[49m\u001b[43m(\u001b[49m\u001b[43mbuy_item\u001b[49m\u001b[43m)\u001b[49m}) \u001b[38;5;66;03m# use pop...\u001b[39;00m\n\u001b[32m     25\u001b[39m     buy_items = \u001b[33m\"\u001b[39m\u001b[33m, \u001b[39m\u001b[33m\"\u001b[39m.join(\u001b[38;5;28mlist\u001b[39m(cart.keys()))\n\u001b[32m     26\u001b[39m \u001b[38;5;28mprint\u001b[39m(\u001b[33mf\u001b[39m\u001b[33m'\u001b[39m\u001b[33mYou Purchased \u001b[39m\u001b[38;5;132;01m{\u001b[39;00mbuy_items\u001b[38;5;132;01m}\u001b[39;00m\u001b[33m. Today it is all free. Have a nice day of mayhem!\u001b[39m\u001b[33m'\u001b[39m)\n",
      "\u001b[31mKeyError\u001b[39m: ''"
     ]
    }
   ],
   "source": [
    "#It’s...not really an adventure game...#Ver 1.0\n",
    "#Your village is being attacked by 'a germanic tribe' and you need to run to the stores and get the right things to save your village, and probably some good looking girl or boy you want to marry. All prices in gold pieces excl. VAT... chop chop!! ze germanz are coming!\n",
    "#The code should allow you to get 1 thing from each store and each item you get should be removed from the store inventory, then do same for next store...\n",
    "# one way to buy by typing the key 'newt' in an input box...or something\n",
    "# at end you should print the 'items' you have taken..in this version you don't have to pay for stuff or add it up\n",
    "#ver 1.2 add ability to exit a store without buying and go to next by typing 'exit', and to exit if a nonexistant item is bought(typed)\n",
    "#Add purse with 1000 gold pieces and payment for the items during or at end of code and show a message about total cost and how much gold you have left\n",
    "#ver 1.4 random bug fix, ' browser compatability', refactoring code... basically being lazy ..stop scrolling TikTok/Facebook! ;-)\n",
    "#Ver 1.5 print inventory before and after purchases as one department_store of stuff(combine inventories from all stores into one...pretend Big Biz bought all the local stores, and want constant reporting for inventory management...)\n",
    "# as in all games there is a special way to do this that actually makes money and solves the problem...can you find 'them'? Do you know why? May require knowledge of actual python 'lore'\n",
    "\n",
    "#create stores\n",
    "freelancers = {'name':'freelancing Shop','brian': 70, 'black knight':20, 'biccus diccus':100, 'grim reaper':500, 'minstrel':-15}\n",
    "antiques = {'name':'Antique Shop','french castle':400, 'wooden grail':3, 'scythe':150, 'catapult':75, 'german joke':5}\n",
    "pet_shop = {'name':'Pet Shop','blue parrot':10, 'white rabbit':5, 'newt': 2}\n",
    "\n",
    "#create an dempty shopping cart\n",
    "cart = {}\n",
    "#loop through stores/dicts\n",
    "for shop in (freelancers,antiques,pet_shop) :\n",
    "    #inputbox  to show what you can buy...capture textstring of what was bought...make lowercase\n",
    "    buy_item = input(f'Welcome to {shop[\"name\"]}! what do you want to buy: {shop}').lower()\n",
    "    #update the cart\n",
    "    cart.update({buy_item:shop.pop(buy_item)}) # use pop...\n",
    "    buy_items = \", \".join(list(cart.keys()))\n",
    "print(f'You Purchased {buy_items}. Today it is all free. Have a nice day of mayhem!')"
   ]
  },
  {
   "cell_type": "markdown",
   "id": "f2a41cb9",
   "metadata": {},
   "source": [
    "## Try/Except methods"
   ]
  },
  {
   "cell_type": "code",
   "execution_count": null,
   "id": "9081dba9",
   "metadata": {},
   "outputs": [],
   "source": [
    "print(\"Errors: Try/Except\")\n",
    "\n",
    "#try:\n",
    "    #code you want to run\n",
    "#except:\n",
    "    #executed if error occurs\n",
    "#else:\n",
    "    #executed if no error\n",
    "#finally:\n",
    "    #always executed \n",
    "\n"
   ]
  },
  {
   "cell_type": "markdown",
   "id": "085b0e99",
   "metadata": {},
   "source": [
    "[Code Switch: Moving To Python From JavaScript With Ease](https://medium.com/@zach.talmadge.webdev/code-switch-moving-to-python-from-javascript-with-ease-4871c79e751a)"
   ]
  }
 ],
 "metadata": {
  "kernelspec": {
   "display_name": "Python 3",
   "language": "python",
   "name": "python3"
  },
  "language_info": {
   "codemirror_mode": {
    "name": "ipython",
    "version": 3
   },
   "file_extension": ".py",
   "mimetype": "text/x-python",
   "name": "python",
   "nbconvert_exporter": "python",
   "pygments_lexer": "ipython3",
   "version": "3.13.3"
  }
 },
 "nbformat": 4,
 "nbformat_minor": 5
}
